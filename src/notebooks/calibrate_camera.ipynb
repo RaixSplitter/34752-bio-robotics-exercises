{
 "cells": [
  {
   "cell_type": "markdown",
   "metadata": {},
   "source": [
    "# Calibrate camera colors"
   ]
  },
  {
   "cell_type": "code",
   "execution_count": 1,
   "metadata": {},
   "outputs": [],
   "source": [
    "import camera_tools as ct"
   ]
  },
  {
   "cell_type": "markdown",
   "metadata": {},
   "source": [
    "The following will open three windows. Adjust the sliders in the \"Trackbars window until only the Lego pieces are white. We are using the \"LAB\" color space. The \"L\" sliders are for luminosity, so keep these close to 0 and 255 respectively. The \"A\" and \"B\" sliders are for color components. Find the range that corresponds to green for your specific camera. When you're done, press the \"ESC\" key, and the function will return the values."
   ]
  },
  {
   "cell_type": "code",
   "execution_count": 2,
   "metadata": {},
   "outputs": [
    {
     "ename": "KeyboardInterrupt",
     "evalue": "",
     "output_type": "error",
     "traceback": [
      "\u001b[0;31m---------------------------------------------------------------------------\u001b[0m",
      "\u001b[0;31mKeyboardInterrupt\u001b[0m                         Traceback (most recent call last)",
      "Cell \u001b[0;32mIn [2], line 1\u001b[0m\n\u001b[0;32m----> 1\u001b[0m low_green, high_green \u001b[39m=\u001b[39m ct\u001b[39m.\u001b[39;49mcolorpicker()\n\u001b[1;32m      2\u001b[0m \u001b[39mprint\u001b[39m(low_green)\n\u001b[1;32m      3\u001b[0m \u001b[39mprint\u001b[39m(high_green)\n",
      "File \u001b[0;32m~/opt/anaconda3/envs/biocontrol/lib/python3.10/site-packages/camera_tools/colorpicker.py:50\u001b[0m, in \u001b[0;36mcolorpicker\u001b[0;34m()\u001b[0m\n\u001b[1;32m     47\u001b[0m thresh \u001b[39m=\u001b[39m cv2\u001b[39m.\u001b[39mflip(thresh, \u001b[39m1\u001b[39m)\n\u001b[1;32m     48\u001b[0m cv2\u001b[39m.\u001b[39mimshow(\u001b[39m\"\u001b[39m\u001b[39mThresh\u001b[39m\u001b[39m\"\u001b[39m, thresh)\n\u001b[0;32m---> 50\u001b[0m k \u001b[39m=\u001b[39m cv2\u001b[39m.\u001b[39;49mwaitKey(\u001b[39m1\u001b[39;49m)\n\u001b[1;32m     52\u001b[0m \u001b[39mif\u001b[39;00m k \u001b[39m==\u001b[39m \u001b[39m27\u001b[39m:\n\u001b[1;32m     53\u001b[0m     \u001b[39mbreak\u001b[39;00m\n",
      "\u001b[0;31mKeyboardInterrupt\u001b[0m: "
     ]
    }
   ],
   "source": [
    "low_green, high_green = ct.colorpicker()\n",
    "print(low_green)\n",
    "print(high_green)"
   ]
  },
  {
   "cell_type": "markdown",
   "metadata": {},
   "source": [
    "Test to see how the new values work:"
   ]
  },
  {
   "cell_type": "code",
   "execution_count": 3,
   "metadata": {},
   "outputs": [
    {
     "ename": "NameError",
     "evalue": "name 'low_green' is not defined",
     "output_type": "error",
     "traceback": [
      "\u001b[0;31m---------------------------------------------------------------------------\u001b[0m",
      "\u001b[0;31mNameError\u001b[0m                                 Traceback (most recent call last)",
      "Cell \u001b[0;32mIn [3], line 3\u001b[0m\n\u001b[1;32m      1\u001b[0m cam \u001b[39m=\u001b[39m ct\u001b[39m.\u001b[39mprepare_camera()\n\u001b[0;32m----> 3\u001b[0m ct\u001b[39m.\u001b[39mshow_camera(cam, low_green, high_green)\n",
      "\u001b[0;31mNameError\u001b[0m: name 'low_green' is not defined"
     ]
    }
   ],
   "source": [
    "cam = ct.prepare_camera()\n",
    "\n",
    "ct.show_camera(cam, low_green, high_green)"
   ]
  }
 ],
 "metadata": {
  "kernelspec": {
   "display_name": "biocontrol",
   "language": "python",
   "name": "python3"
  },
  "language_info": {
   "codemirror_mode": {
    "name": "ipython",
    "version": 3
   },
   "file_extension": ".py",
   "mimetype": "text/x-python",
   "name": "python",
   "nbconvert_exporter": "python",
   "pygments_lexer": "ipython3",
   "version": "3.10.8 (main, Nov  4 2022, 08:45:18) [Clang 12.0.0 ]"
  },
  "vscode": {
   "interpreter": {
    "hash": "b800893415a0c70bc99a913a2794f947c932bde76f0462c9534c0a3d74ebcce5"
   }
  }
 },
 "nbformat": 4,
 "nbformat_minor": 2
}
