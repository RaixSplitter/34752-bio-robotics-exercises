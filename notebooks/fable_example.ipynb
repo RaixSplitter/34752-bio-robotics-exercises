{
 "cells": [
  {
   "cell_type": "markdown",
   "metadata": {},
   "source": [
    "# Fable example\n",
    "## Moving the joints\n",
    "\n",
    "In this example, we will move the joints of a Fable module.\n",
    "\n",
    "\n",
    "### Setup\n",
    "Firstly, we import the Fable API package, and setup the connection to the USB dongle:"
   ]
  },
  {
   "cell_type": "code",
   "execution_count": 1,
   "metadata": {},
   "outputs": [
    {
     "name": "stderr",
     "output_type": "stream",
     "text": [
      "C:\\programmering\\DTU\\34752-bio-robotics-exercises\\Required_Tools\\additions\\fable_2_api\\FableAPI\\fableAPI.py:250: SyntaxWarning: \"is not\" with 'str' literal. Did you mean \"!=\"?\n",
      "  if not threading.current_thread().getName() is 'CodeThread': return\n",
      "C:\\programmering\\DTU\\34752-bio-robotics-exercises\\Required_Tools\\additions\\fable_2_api\\FableAPI\\fableAPI.py:672: SyntaxWarning: \"is\" with 'str' literal. Did you mean \"==\"?\n",
      "  if moduleID is 'Dongle':\n",
      "C:\\programmering\\DTU\\34752-bio-robotics-exercises\\Required_Tools\\additions\\fable_2_api\\FableAPI\\jointManager.py:207: SyntaxWarning: \"is not\" with 'str' literal. Did you mean \"!=\"?\n",
      "  if self.softState[key]['lastWrite'] != -1 and not key is 'status':\n",
      "C:\\programmering\\DTU\\34752-bio-robotics-exercises\\Required_Tools\\additions\\fable_2_api\\FableAPI\\runtime.py:70: SyntaxWarning: \"is\" with 'str' literal. Did you mean \"==\"?\n",
      "  if moduleID is '0': return\n",
      "C:\\programmering\\DTU\\34752-bio-robotics-exercises\\Required_Tools\\additions\\fable_2_api\\FableAPI\\runtime.py:72: SyntaxWarning: \"is\" with 'str' literal. Did you mean \"==\"?\n",
      "  if moduleID is 'None': return\n"
     ]
    },
    {
     "name": "stdout",
     "output_type": "stream",
     "text": [
      "Trying to connect - No devices found\n",
      "Trying to connect - No devices found\n",
      "Trying to connect - No devices found\n",
      "Trying to connect - No devices found\n",
      "Trying to connect - No devices found\n",
      "Trying to connect - No devices found\n"
     ]
    },
    {
     "ename": "KeyboardInterrupt",
     "evalue": "",
     "output_type": "error",
     "traceback": [
      "\u001b[31m---------------------------------------------------------------------------\u001b[39m",
      "\u001b[31mKeyboardInterrupt\u001b[39m                         Traceback (most recent call last)",
      "\u001b[36mCell\u001b[39m\u001b[36m \u001b[39m\u001b[32mIn[1]\u001b[39m\u001b[32m, line 2\u001b[39m\n\u001b[32m      1\u001b[39m \u001b[38;5;28;01mfrom\u001b[39;00m\u001b[38;5;250m \u001b[39m\u001b[34;01mFableAPI\u001b[39;00m\u001b[34;01m.\u001b[39;00m\u001b[34;01mfable_init\u001b[39;00m\u001b[38;5;250m \u001b[39m\u001b[38;5;28;01mimport\u001b[39;00m api\n\u001b[32m----> \u001b[39m\u001b[32m2\u001b[39m \u001b[43mapi\u001b[49m\u001b[43m.\u001b[49m\u001b[43msetup\u001b[49m\u001b[43m(\u001b[49m\u001b[43mblocking\u001b[49m\u001b[43m=\u001b[49m\u001b[38;5;28;43;01mTrue\u001b[39;49;00m\u001b[43m)\u001b[49m\n",
      "\u001b[36mFile \u001b[39m\u001b[32mC:\\programmering\\DTU\\34752-bio-robotics-exercises\\Required_Tools\\additions\\fable_2_api\\FableAPI\\fableAPI.py:304\u001b[39m, in \u001b[36mFableAPI.setup\u001b[39m\u001b[34m(self, defaultPort, blocking)\u001b[39m\n\u001b[32m    302\u001b[39m \u001b[38;5;28mself\u001b[39m.dongle.autoconnectStart()\n\u001b[32m    303\u001b[39m \u001b[38;5;28;01mwhile\u001b[39;00m blocking \u001b[38;5;129;01mand\u001b[39;00m \u001b[38;5;129;01mnot\u001b[39;00m \u001b[38;5;28mself\u001b[39m.dongle.isConnected():\n\u001b[32m--> \u001b[39m\u001b[32m304\u001b[39m     \u001b[38;5;28;43mself\u001b[39;49m\u001b[43m.\u001b[49m\u001b[43msleep\u001b[49m\u001b[43m(\u001b[49m\u001b[32;43m0.1\u001b[39;49m\u001b[43m)\u001b[49m\n\u001b[32m    305\u001b[39m \u001b[38;5;28mprint\u001b[39m(\u001b[33m\"\u001b[39m\u001b[33msetup done\u001b[39m\u001b[33m\"\u001b[39m)\n\u001b[32m    306\u001b[39m \u001b[38;5;28;01mreturn\u001b[39;00m \u001b[38;5;28;01mTrue\u001b[39;00m\n",
      "\u001b[36mFile \u001b[39m\u001b[32mC:\\programmering\\DTU\\34752-bio-robotics-exercises\\Required_Tools\\additions\\fable_2_api\\FableAPI\\fableAPI.py:521\u001b[39m, in \u001b[36mFableAPI.sleep\u001b[39m\u001b[34m(self, wtime)\u001b[39m\n\u001b[32m    519\u001b[39m     \u001b[38;5;28;01mreturn\u001b[39;00m\n\u001b[32m    520\u001b[39m \u001b[38;5;28;01melse\u001b[39;00m:\n\u001b[32m--> \u001b[39m\u001b[32m521\u001b[39m     \u001b[43mtime\u001b[49m\u001b[43m.\u001b[49m\u001b[43msleep\u001b[49m\u001b[43m(\u001b[49m\u001b[32;43m0.1\u001b[39;49m\u001b[43m)\u001b[49m\n\u001b[32m    522\u001b[39m     wtime -= \u001b[32m0.1\u001b[39m\n",
      "\u001b[31mKeyboardInterrupt\u001b[39m: "
     ]
    },
    {
     "name": "stdout",
     "output_type": "stream",
     "text": [
      "Trying to connect - No devices found\n",
      "Trying to connect - No devices found\n",
      "Trying to connect - No devices found\n"
     ]
    }
   ],
   "source": [
    "from FableAPI.fable_init import api\n",
    "api.setup(blocking=True)"
   ]
  },
  {
   "cell_type": "markdown",
   "metadata": {},
   "source": [
    "### Discover modules\n",
    "Next, we will print a list of discovered modules:"
   ]
  },
  {
   "cell_type": "code",
   "execution_count": 3,
   "metadata": {
    "scrolled": true
   },
   "outputs": [
    {
     "name": "stdout",
     "output_type": "stream",
     "text": [
      "Runtime Created 2S7 \n",
      "Module IDs:  ['2S7 ']\n"
     ]
    }
   ],
   "source": [
    "moduleids = api.discoverModules()\n",
    "print(\"Module IDs: \", moduleids)"
   ]
  },
  {
   "cell_type": "markdown",
   "metadata": {},
   "source": [
    "### Move\n",
    "We can move the joints with the `setPos(posX, posY, moduleID)` command.\n",
    "\n",
    "The arguments are:\n",
    "\n",
    "`posX`: X motor angle (degrees)\n",
    "\n",
    "`posY`: Y motor angle (degrees)\n",
    "\n",
    "`moduleID`: The module ID. You can use `moduleids[0]` to use the first discovered module."
   ]
  },
  {
   "cell_type": "code",
   "execution_count": 6,
   "metadata": {},
   "outputs": [
    {
     "data": {
      "text/plain": [
       "0"
      ]
     },
     "execution_count": 6,
     "metadata": {},
     "output_type": "execute_result"
    }
   ],
   "source": [
    "moduleID = moduleids[0]\n",
    "api.setPos(0, 0, moduleID)"
   ]
  },
  {
   "cell_type": "markdown",
   "metadata": {},
   "source": [
    "### Changing the reference\n",
    "We can try to make the joints follow a changing reference angle, using a for loop:"
   ]
  },
  {
   "cell_type": "code",
   "execution_count": 5,
   "metadata": {},
   "outputs": [],
   "source": [
    "for i in range(10):\n",
    "    api.setPos(i*10, 0, moduleID)"
   ]
  },
  {
   "cell_type": "markdown",
   "metadata": {},
   "source": [
    "What happened? All of the commands were sent immediately, giving the module no time to react.\n",
    "\n",
    "To not send all commands at once, we can wait in between commands. How much time is required? Try different sleep durations\n"
   ]
  },
  {
   "cell_type": "code",
   "execution_count": null,
   "metadata": {},
   "outputs": [],
   "source": [
    "for i in range(10):\n",
    "    api.setPos(i*10, 0, moduleID)\n",
    "    api.sleep(2)"
   ]
  }
 ],
 "metadata": {
  "kernelspec": {
   "display_name": ".venv",
   "language": "python",
   "name": "python3"
  },
  "language_info": {
   "codemirror_mode": {
    "name": "ipython",
    "version": 3
   },
   "file_extension": ".py",
   "mimetype": "text/x-python",
   "name": "python",
   "nbconvert_exporter": "python",
   "pygments_lexer": "ipython3",
   "version": "3.13.5"
  }
 },
 "nbformat": 4,
 "nbformat_minor": 2
}
