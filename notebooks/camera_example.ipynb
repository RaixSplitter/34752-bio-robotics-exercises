{
 "cells": [
  {
   "cell_type": "markdown",
   "metadata": {},
   "source": [
    "# Camera example\n",
    "## Detecting a green object\n",
    "\n"
   ]
  },
  {
   "cell_type": "code",
   "execution_count": 2,
   "metadata": {},
   "outputs": [],
   "source": [
    "import camera_tools as ct"
   ]
  },
  {
   "cell_type": "markdown",
   "metadata": {},
   "source": [
    "To test the camera and object detection algorithm:"
   ]
  },
  {
   "cell_type": "code",
   "execution_count": 3,
   "metadata": {},
   "outputs": [],
   "source": [
    "cam = ct.prepare_camera()\n",
    "\n",
    "ct.show_camera(cam)"
   ]
  },
  {
   "cell_type": "markdown",
   "metadata": {},
   "source": [
    "Press ESC to close the window.\n",
    "\n",
    "Example of how to grab an image and locate the largest green object:"
   ]
  },
  {
   "cell_type": "code",
   "execution_count": 5,
   "metadata": {},
   "outputs": [
    {
     "name": "stdout",
     "output_type": "stream",
     "text": [
      "309 147\n",
      "296 136\n",
      "290 129\n",
      "288 122\n",
      "286 119\n",
      "285 122\n",
      "285 130\n",
      "284 139\n",
      "68 203\n",
      "272 156\n"
     ]
    }
   ],
   "source": [
    "cam = ct.prepare_camera()\n",
    "\n",
    "for _ in range(10):\n",
    "    img = ct.capture_image(cam)\n",
    "\n",
    "    x, y = ct.locate(img)\n",
    "\n",
    "    print(x, y)\n",
    "    \n",
    "cam.release()"
   ]
  },
  {
   "cell_type": "markdown",
   "metadata": {},
   "source": [
    "If `locate(img)` returns `None`, no green object was found. This can happen (for some cameras) in the first few frames, when the camera is adjusting the exposure.\n",
    "\n",
    "A solution to this is to wait until it stops returning `None` before printing the output. (Note that the below code never exits if no green object is found.)"
   ]
  },
  {
   "cell_type": "code",
   "execution_count": 6,
   "metadata": {},
   "outputs": [
    {
     "name": "stdout",
     "output_type": "stream",
     "text": [
      "Now the camera is done adjusting!\n",
      "336 138\n",
      "335 138\n",
      "336 138\n",
      "337 138\n",
      "337 138\n",
      "337 138\n",
      "339 138\n",
      "339 138\n",
      "339 138\n",
      "340 138\n"
     ]
    }
   ],
   "source": [
    "cam = ct.prepare_camera()\n",
    "while True:\n",
    "    img = ct.capture_image(cam)\n",
    "    x, y = ct.locate(img)\n",
    "    if x is not None:\n",
    "        break\n",
    "print(\"Now the camera is done adjusting!\")\n",
    "\n",
    "for _ in range(10):\n",
    "    img = ct.capture_image(cam)\n",
    "\n",
    "    x, y = ct.locate(img)\n",
    "\n",
    "    print(x, y)\n",
    "    \n",
    "cam.release()"
   ]
  },
  {
   "cell_type": "markdown",
   "metadata": {},
   "source": [
    "To run code while the image is showing, you can use the following example. The class member variables can be manipulated in the `go(self, x, y, clickpoint)` function to save data. The `x` and `y` arguments are pixel coordinates of the largest green object and `clickpoint` contains the pixel coordinates of the last double-click on the image.\n",
    "\n",
    "The `go` function should return true to exit the camera loop."
   ]
  },
  {
   "cell_type": "code",
   "execution_count": null,
   "metadata": {},
   "outputs": [],
   "source": [
    "cam = ct.prepare_camera()\n",
    "\n",
    "class TestClass:\n",
    "    def __init__(self):\n",
    "        self.i = 0\n",
    "\n",
    "    @ct.camera_loop(cam, wait_time=1.0) # only runs the function every 0.5 second.\n",
    "    def go(self, x, y, clickpoint):\n",
    "        if self.i > 100:\n",
    "            return True\n",
    "        print(self.i, x, y)\n",
    "        self.i += 1\n",
    "        return False\n",
    "\n",
    "test = TestClass()\n",
    "test.go()"
   ]
  },
  {
   "cell_type": "markdown",
   "metadata": {},
   "source": [
    "The `ct.camera_loop` decorator fills in the `x`, `y` and `clickpoint` arguments to the `go` function at the specified interval `wait_time`."
   ]
  }
 ],
 "metadata": {
  "kernelspec": {
   "display_name": "biocontrol",
   "language": "python",
   "name": "python3"
  },
  "language_info": {
   "codemirror_mode": {
    "name": "ipython",
    "version": 3
   },
   "file_extension": ".py",
   "mimetype": "text/x-python",
   "name": "python",
   "nbconvert_exporter": "python",
   "pygments_lexer": "ipython3",
   "version": "3.10.8 (main, Nov  4 2022, 08:45:18) [Clang 12.0.0 ]"
  },
  "vscode": {
   "interpreter": {
    "hash": "b800893415a0c70bc99a913a2794f947c932bde76f0462c9534c0a3d74ebcce5"
   }
  }
 },
 "nbformat": 4,
 "nbformat_minor": 2
}
